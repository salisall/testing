{
 "cells": [
  {
   "cell_type": "code",
   "execution_count": null,
   "metadata": {},
   "outputs": [],
   "source": [
    "number = int(input(\" Enter the number of month\"))\n",
    "\n",
    "if (number < 1 or number > 12 ):\n",
    "  print (\"valid month\")\n",
    "elif (number >= 1 and number <= 3):\n",
    "  print(\"Q1\")\n",
    "elif (number >= 4 and number <= 6):\n",
    "  print(\"Q2\")\n",
    "elif (number >= 7 and number <= 9):\n",
    "  print(\"Q3\")\n",
    "elif (number >= 10 and number <= 12):\n",
    "  print(\"Q4\")\n",
    "  \n"
   ]
  },
  {
   "cell_type": "code",
   "execution_count": null,
   "metadata": {},
   "outputs": [],
   "source": [
    "mass = int(input(\"Enter mass\"))\n",
    "weight = mass* 9.0\n",
    "\n",
    "print(\"mass {0} kilogram is {1} newton\".format(mass,weight))\n",
    "\n",
    "\n",
    "if weight <= 100 :\n",
    "  print(\"Too light\")\n",
    "elif weight >= 500 :\n",
    "  print(\"Too heavy\")"
   ]
  },
  {
   "cell_type": "code",
   "execution_count": null,
   "metadata": {},
   "outputs": [],
   "source": [
    "month = int(input(\"Enter month\"))\n",
    "day = int(input(\"Enter day\"))\n",
    "year = int(input(\"Enter year\"))\n",
    "\n",
    "if (month*day == year):\n",
    "  print(\"the date is magic!!!\" )\n",
    "else:\n",
    "  print(\"The is not magic\")"
   ]
  },
  {
   "cell_type": "code",
   "execution_count": null,
   "metadata": {},
   "outputs": [],
   "source": [
    "piece = int(input(\"Put how many of piece\"))\n",
    "\n",
    "if (piece >= 10)and(piece <= 19):\n",
    "  discount = 0.1\n",
    "elif (piece >= 20)and(piece <= 49):\n",
    "  discount = 0.2\n",
    "\n",
    "price = piece*99\n",
    "total_price = price*(1-discount)\n",
    "\n",
    "print (piece,price)\n"
   ]
  },
  {
   "cell_type": "code",
   "execution_count": null,
   "metadata": {},
   "outputs": [],
   "source": [
    "year = int(input(\"enter no of year\"))\n",
    "\n",
    "if (year%400 == 0):\n",
    "    print (\"February\" , year , \"has 29 day\")\n",
    "elif ((year%100) and (year%4) == 0) :\n",
    "     print (\"February\" , year , \"has 29 day is a leap year\" )\n",
    "else :\n",
    "     print (\"February\" , year , \"has 28 day\")"
   ]
  },
  {
   "cell_type": "code",
   "execution_count": null,
   "metadata": {},
   "outputs": [],
   "source": [
    "for time in [10,20,30,45,60]:\n",
    "    burn_calories_time = time*4.2\n",
    "    print(\"for the time {0} I can Burn calories {1} cal.\" .format(time , burn_calories_time))"
   ]
  },
  {
   "cell_type": "code",
   "execution_count": null,
   "metadata": {},
   "outputs": [],
   "source": [
    "speed = int(input(\"\"))\n",
    "time = int(input(\"\"))\n",
    "\n",
    "print(\"minute  Distance Traveled\")\n",
    "print(\"====   =================\")\n",
    "\n",
    "for h in range (time):\n",
    "  distance = speed * h\n",
    "\n",
    "  print( h ,distance , sep = \"      \" )"
   ]
  },
  {
   "cell_type": "code",
   "execution_count": 82,
   "metadata": {},
   "outputs": [
    {
     "name": "stdout",
     "output_type": "stream",
     "text": [
      "year 1\n"
     ]
    },
    {
     "ename": "ValueError",
     "evalue": "could not convert string to float: ''",
     "output_type": "error",
     "traceback": [
      "\u001b[1;31m---------------------------------------------------------------------------\u001b[0m",
      "\u001b[1;31mValueError\u001b[0m                                Traceback (most recent call last)",
      "\u001b[1;32mUntitled-1.ipynb Cell 8'\u001b[0m in \u001b[0;36m<cell line: 3>\u001b[1;34m()\u001b[0m\n\u001b[0;32m      <a href='vscode-notebook-cell:Untitled-1.ipynb?jupyter-notebook#ch0000007untitled?line=7'>8</a>\u001b[0m   \u001b[39mfor\u001b[39;00m m \u001b[39min\u001b[39;00m \u001b[39mrange\u001b[39m(\u001b[39m1\u001b[39m,\u001b[39m13\u001b[39m):\n\u001b[0;32m      <a href='vscode-notebook-cell:Untitled-1.ipynb?jupyter-notebook#ch0000007untitled?line=8'>9</a>\u001b[0m     text \u001b[39m=\u001b[39m \u001b[39m\"\u001b[39m\u001b[39mEnter in inche of rainfall for month \u001b[39m\u001b[39m{0}\u001b[39;00m\u001b[39m of year \u001b[39m\u001b[39m{1}\u001b[39;00m\u001b[39m\"\u001b[39m\u001b[39m.\u001b[39mformat(m,num_of_year)\n\u001b[1;32m---> <a href='vscode-notebook-cell:Untitled-1.ipynb?jupyter-notebook#ch0000007untitled?line=9'>10</a>\u001b[0m     rainfall \u001b[39m=\u001b[39m \u001b[39mfloat\u001b[39;49m(\u001b[39minput\u001b[39;49m(\u001b[39m\"\u001b[39;49m\u001b[39mtext\u001b[39;49m\u001b[39m\"\u001b[39;49m))\n\u001b[0;32m     <a href='vscode-notebook-cell:Untitled-1.ipynb?jupyter-notebook#ch0000007untitled?line=10'>11</a>\u001b[0m     total_rain_fall \u001b[39m=\u001b[39m\u001b[39m+\u001b[39m rainfall\n\u001b[0;32m     <a href='vscode-notebook-cell:Untitled-1.ipynb?jupyter-notebook#ch0000007untitled?line=12'>13</a>\u001b[0m \u001b[39mprint\u001b[39m(num_of_year ,\u001b[39m\"\u001b[39m\u001b[39mnumber of year\u001b[39m\u001b[39m\"\u001b[39m)\n",
      "\u001b[1;31mValueError\u001b[0m: could not convert string to float: ''"
     ]
    }
   ],
   "source": [
    "num_of_year = int(input(\"Enter number of year\"))\n",
    "\n",
    "if( num_of_year >= 1) :\n",
    "\n",
    "  liter_rain = 0.0\n",
    "  for y in range(num_of_year):\n",
    "    print (\"year\" , y+1)\n",
    "    for m in range(1,13):\n",
    "      text = \"Enter in inche of rainfall for month {0} of year {1}\".format(m,num_of_year)\n",
    "      rainfall = float(input(\"text\"))\n",
    "      total_rain_fall =+ rainfall\n",
    "\n",
    "  print(num_of_year ,\"number of year\")\n",
    "  print(rainfall,\"litre_rain\")\n",
    "  print(total_rain_fall,\"total raint\")\n",
    "\n",
    "else:\n",
    "    print (\"No rain\")\n"
   ]
  },
  {
   "cell_type": "code",
   "execution_count": 85,
   "metadata": {},
   "outputs": [
    {
     "name": "stdout",
     "output_type": "stream",
     "text": [
      "Year  1\n",
      "==================================================\n",
      "Total number of months:  12 month\n",
      "Total rainfalls: 90.0\n",
      "Average monthly rain: 7.5\n"
     ]
    }
   ],
   "source": [
    "num_of_year = int(input(\"Enter number of year:\"))\n",
    "\n",
    "if(num_of_year >= 1) :\n",
    "    \n",
    "    total_rainfall = 0.0\n",
    "    for year in range(num_of_year):\n",
    "        print(\"Year \", year+1)\n",
    "        for month in range(1,13) :\n",
    "            text = \"Please enter the inches of rainfall for month {0} of year {1} : \".format(month, year+1) \n",
    "            rainfall = float(input(text))\n",
    "            total_rainfall = total_rainfall + rainfall\n",
    "\n",
    "\n",
    "    print(\"==================================================\")\n",
    "    print(\"Total number of months: \", (num_of_year * 12), \"month\")\n",
    "    print(\"Total rainfalls: {0}\".format(total_rainfall))\n",
    "    print(\"Average monthly rain: {0}\".format( total_rainfall / (num_of_year * 12)))\n",
    "    \n",
    "else:\n",
    "    print(\"Invalide number of year\")"
   ]
  },
  {
   "cell_type": "code",
   "execution_count": 90,
   "metadata": {},
   "outputs": [
    {
     "name": "stdout",
     "output_type": "stream",
     "text": [
      "The tutition amount $ 8000\n",
      "The tuition amount after 1 years is $8240.00\n",
      "The tuition amount after 2 years is $8487.20\n",
      "The tuition amount after 3 years is $8741.82\n",
      "The tuition amount after 4 years is $9004.07\n",
      "The tuition amount after 5 years is $9274.19\n"
     ]
    }
   ],
   "source": [
    "tutition = 8000\n",
    "print (\"The tutition amount $\",tutition)\n",
    "\n",
    "for year in range(1,6) :\n",
    "  tutition = tutition* (1 + (3/100))\n",
    "  print(\"The tuition amount after {0} years is ${1:.2f}\".format(year,tutition))\n"
   ]
  },
  {
   "cell_type": "code",
   "execution_count": 94,
   "metadata": {},
   "outputs": [
    {
     "name": "stdout",
     "output_type": "stream",
     "text": [
      "25.0 mile = 132,000.00 feet\n"
     ]
    }
   ],
   "source": [
    "def miles_to_feet(mile):\n",
    "  return mile * 5280\n",
    "\n",
    "no_mile = float(input(\"Enter of mile :\"))\n",
    "feet = miles_to_feet(no_mile)\n",
    "print (f\"{no_mile:,} mile = {feet:,.2f} feet\")\n"
   ]
  },
  {
   "cell_type": "code",
   "execution_count": 109,
   "metadata": {},
   "outputs": [],
   "source": [
    "def add(a, b):\n",
    "    result = a + b\n",
    "    return result\n",
    "    "
   ]
  },
  {
   "cell_type": "code",
   "execution_count": 110,
   "metadata": {},
   "outputs": [
    {
     "data": {
      "text/plain": [
       "5"
      ]
     },
     "execution_count": 110,
     "metadata": {},
     "output_type": "execute_result"
    }
   ],
   "source": [
    "add(2,3)"
   ]
  },
  {
   "cell_type": "code",
   "execution_count": 116,
   "metadata": {},
   "outputs": [],
   "source": [
    "def add(x):\n",
    "  result = x+5\n",
    "  return result"
   ]
  },
  {
   "cell_type": "code",
   "execution_count": 117,
   "metadata": {},
   "outputs": [
    {
     "data": {
      "text/plain": [
       "12"
      ]
     },
     "execution_count": 117,
     "metadata": {},
     "output_type": "execute_result"
    }
   ],
   "source": [
    "add(7)"
   ]
  },
  {
   "cell_type": "code",
   "execution_count": 124,
   "metadata": {},
   "outputs": [
    {
     "data": {
      "text/plain": [
       "10983"
      ]
     },
     "execution_count": 124,
     "metadata": {},
     "output_type": "execute_result"
    }
   ],
   "source": [
    "def total_secound(hours,minutes,seconds):\n",
    "  return ((hours*60*60) + (minutes*60) + seconds)\n",
    "\n",
    "\n",
    "total_secound(3,3,3)\n"
   ]
  },
  {
   "cell_type": "code",
   "execution_count": 127,
   "metadata": {},
   "outputs": [],
   "source": [
    "#Rectangle Perimeter\n",
    "\n",
    "def long_rectangle(width,height):\n",
    "  return (width+height)*2\n",
    "\n",
    "def area_rectangle(width,height):\n",
    "  return (width*height)"
   ]
  },
  {
   "cell_type": "code",
   "execution_count": 128,
   "metadata": {},
   "outputs": [
    {
     "data": {
      "text/plain": [
       "40"
      ]
     },
     "execution_count": 128,
     "metadata": {},
     "output_type": "execute_result"
    }
   ],
   "source": [
    "area_rectangle(4,10)"
   ]
  },
  {
   "cell_type": "code",
   "execution_count": 129,
   "metadata": {},
   "outputs": [],
   "source": [
    "import math\n",
    "\n",
    "def circle(radius) :\n",
    "  return (2.0* math.pi) * radius"
   ]
  },
  {
   "cell_type": "code",
   "execution_count": 130,
   "metadata": {},
   "outputs": [
    {
     "data": {
      "text/plain": [
       "188.49555921538757"
      ]
     },
     "execution_count": 130,
     "metadata": {},
     "output_type": "execute_result"
    }
   ],
   "source": [
    "circle(30)"
   ]
  },
  {
   "cell_type": "code",
   "execution_count": 141,
   "metadata": {},
   "outputs": [
    {
     "name": "stdout",
     "output_type": "stream",
     "text": [
      "The future value of $1,000 in 20 years at an annual rate of 3% is $1,806.11123\n"
     ]
    }
   ],
   "source": [
    "def fv(present_value , annual_rate , year):\n",
    "  return present_value * pow(( 1 + annual_rate / 100 ), year)\n",
    "\n",
    "present_value = 1000\n",
    "annual_rate = 3\n",
    "year = 20\n",
    "\n",
    "fv = future_value(present_value, annual_rate, year)\n",
    "print(f'The future value of ${present_value:,} in {year} years at an annual rate of {annual_rate}% is ${fv:,.5f}')"
   ]
  },
  {
   "cell_type": "code",
   "execution_count": 3,
   "metadata": {},
   "outputs": [
    {
     "name": "stdout",
     "output_type": "stream",
     "text": [
      "hello net\n"
     ]
    }
   ],
   "source": [
    "  name = input(\"who are you? \")\n",
    "print(\"hello\" , (name))"
   ]
  },
  {
   "cell_type": "code",
   "execution_count": 4,
   "metadata": {},
   "outputs": [
    {
     "name": "stdout",
     "output_type": "stream",
     "text": [
      "My name is Net. I like a coffee and drink it 2 time(s) a day.\n"
     ]
    }
   ],
   "source": [
    "firstname = 'Net'\n",
    "beverage = 'coffee'\n",
    "drink_time = 2\n",
    "money = 45\n",
    "print('My name is %s. I like a %s and drink it %s time(s) a day.' % (firstname, beverage, drink_time))"
   ]
  },
  {
   "cell_type": "code",
   "execution_count": 5,
   "metadata": {},
   "outputs": [
    {
     "name": "stdout",
     "output_type": "stream",
     "text": [
      "My name is Net. I like a coffee and drink it 2 time(s) a day.\n"
     ]
    }
   ],
   "source": [
    "firstname = 'Net'\n",
    "beverage = 'coffee'\n",
    "drink_time = 2\n",
    "money = 45\n",
    "result_message = 'My name is {}. I like a {} and drink it {} time(s) a day.'.format(firstname, beverage, drink_time)\n",
    "print(result_message)"
   ]
  },
  {
   "cell_type": "code",
   "execution_count": 11,
   "metadata": {},
   "outputs": [
    {
     "name": "stdout",
     "output_type": "stream",
     "text": [
      "My name is net chom\n"
     ]
    }
   ],
   "source": [
    "def name_tag(firstname,lastname):\n",
    "  message = \"My name is %s %s\" %(firstname,lastname)\n",
    "  return message\n",
    "\n",
    "print(name_tag(\"net\" , \"chom\"))\n"
   ]
  },
  {
   "cell_type": "code",
   "execution_count": 22,
   "metadata": {},
   "outputs": [
    {
     "name": "stdout",
     "output_type": "stream",
     "text": [
      "my name is net and I'm 23 years old \n"
     ]
    }
   ],
   "source": [
    "def name_and_age (name,age):\n",
    "  message1 = \"my name is {} and I'm {} years old \" .format(name,age)\n",
    "  return message1\n",
    "\n",
    "print(name_and_age(\"net\",\"23\"))"
   ]
  },
  {
   "cell_type": "code",
   "execution_count": null,
   "metadata": {},
   "outputs": [],
   "source": []
  }
 ],
 "metadata": {
  "kernelspec": {
   "display_name": "Python 3.10.5 64-bit",
   "language": "python",
   "name": "python3"
  },
  "language_info": {
   "codemirror_mode": {
    "name": "ipython",
    "version": 3
   },
   "file_extension": ".py",
   "mimetype": "text/x-python",
   "name": "python",
   "nbconvert_exporter": "python",
   "pygments_lexer": "ipython3",
   "version": "3.10.5"
  },
  "orig_nbformat": 4,
  "vscode": {
   "interpreter": {
    "hash": "edf452e76461da5179fedd906dfdd1bfd5836ea73278b61df62133d304b73eaf"
   }
  }
 },
 "nbformat": 4,
 "nbformat_minor": 2
}
